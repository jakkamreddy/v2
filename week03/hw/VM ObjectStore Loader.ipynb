{
 "cells": [
  {
   "cell_type": "code",
   "execution_count": 2,
   "metadata": {},
   "outputs": [],
   "source": [
    "import paho.mqtt.client as mqttClient\n",
    "import uuid\n",
    "\n",
    "\n",
    "def on_connect(client, userdata, flags, rc):\n",
    "    if rc == 0:\n",
    " \n",
    "        print(\"Connected to broker\")\n",
    " \n",
    "        global Connected                #Use global variable\n",
    "        Connected = True                #Signal connection \n",
    " \n",
    "    else:\n",
    " \n",
    "        print(\"Connection failed\")\n",
    "    print(\"Connect\" + str(rc))\n",
    "    client.subscribe(\"#\") \n",
    "\n",
    "def on_message(client, userdata, msg):\n",
    "    global counter\n",
    "    counter += 1\n",
    "    print (\"Topic : \", msg.topic)\n",
    "    #id = uuid.uuid1() \n",
    "    f = open(\"/w251/output_\" + str(uuid.uuid1()) + \".jpg\", \"wb\")  #there is a output.jpg which is different\n",
    "    f.write(msg.payload)\n",
    "    f.close()\n",
    "\n",
    "def on_log(client, userdata, level, buf):\n",
    "    print(\"log: \",buf)\n",
    "\n",
    "Connected = False   #global variable for the state of the connection\n",
    "counter = 0\n",
    "broker_address= \"mosquitto\"\n",
    "port = 1883\n",
    " \n",
    "client = mqttClient.Client(\"Subscription\")               #create new instance\n",
    "client.on_connect= on_connect                      #attach function to callback\n",
    "client.on_message = on_message\n",
    "client.on_log=on_log\n",
    "\n",
    "client.connect(broker_address, port=port)\n",
    "\n",
    "client.loop_forever()\n"
   ]
  },
  {
   "cell_type": "code",
   "execution_count": null,
   "metadata": {},
   "outputs": [],
   "source": []
  }
 ],
 "metadata": {
  "kernelspec": {
   "display_name": "Python 3",
   "language": "python",
   "name": "python3"
  },
  "language_info": {
   "codemirror_mode": {
    "name": "ipython",
    "version": 3
   },
   "file_extension": ".py",
   "mimetype": "text/x-python",
   "name": "python",
   "nbconvert_exporter": "python",
   "pygments_lexer": "ipython3",
   "version": "3.6.8"
  }
 },
 "nbformat": 4,
 "nbformat_minor": 2
}
